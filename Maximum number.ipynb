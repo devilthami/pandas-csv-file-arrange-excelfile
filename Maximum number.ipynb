{
 "cells": [
  {
   "cell_type": "code",
   "execution_count": 1,
   "id": "c393c2dc-bc27-4a64-88b9-0a196332536b",
   "metadata": {},
   "outputs": [],
   "source": [
    "import pandas as pd"
   ]
  },
  {
   "cell_type": "code",
   "execution_count": null,
   "id": "d23e3dcd-e65f-4250-9e2b-4a8ea72e9a0d",
   "metadata": {},
   "outputs": [],
   "source": [
    "pd.options.display.max_rows = 9999\n",
    "\n",
    "df = pd.read_csv('data.csv')\n",
    "\n",
    "print(df) "
   ]
  },
  {
   "cell_type": "code",
   "execution_count": null,
   "id": "e33d5080-3f00-4aeb-9ac4-e264e48701af",
   "metadata": {},
   "outputs": [],
   "source": []
  },
  {
   "cell_type": "code",
   "execution_count": null,
   "id": "47dc7703-cba6-47b4-bb2f-e7cfc75b4b44",
   "metadata": {},
   "outputs": [],
   "source": []
  }
 ],
 "metadata": {
  "kernelspec": {
   "display_name": "Python 3 (ipykernel)",
   "language": "python",
   "name": "python3"
  },
  "language_info": {
   "codemirror_mode": {
    "name": "ipython",
    "version": 3
   },
   "file_extension": ".py",
   "mimetype": "text/x-python",
   "name": "python",
   "nbconvert_exporter": "python",
   "pygments_lexer": "ipython3",
   "version": "3.11.2"
  }
 },
 "nbformat": 4,
 "nbformat_minor": 5
}
